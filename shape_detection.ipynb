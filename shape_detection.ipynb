{
 "cells": [
  {
   "cell_type": "code",
   "execution_count": 1,
   "metadata": {},
   "outputs": [],
   "source": [
    "import cv2\n",
    "import numpy as np"
   ]
  },
  {
   "cell_type": "code",
   "execution_count": 2,
   "metadata": {},
   "outputs": [],
   "source": [
    "def nothing(x):\n",
    "    # any operation\n",
    "    pass"
   ]
  },
  {
   "cell_type": "code",
   "execution_count": 4,
   "metadata": {},
   "outputs": [
    {
     "name": "stdout",
     "output_type": "stream",
     "text": [
      "[ 0 90 50] [255 255 255]\n"
     ]
    }
   ],
   "source": [
    "cap = cv2.VideoCapture(1)\n",
    "\n",
    "cv2.namedWindow(\"Trackbars\")\n",
    "cv2.createTrackbar(\"thre1\", \"Trackbars\", 40, 255, nothing)\n",
    "cv2.createTrackbar(\"thre2\", \"Trackbars\", 40, 255, nothing)\n",
    "cv2.createTrackbar(\"thre3\", \"Trackbars\", 100, 120, nothing)\n",
    "cv2.createTrackbar(\"thre4\", \"Trackbars\", 0, 1000, nothing)\n",
    "cv2.createTrackbar(\"L-H\", \"Trackbars\", 0, 255, nothing)\n",
    "cv2.createTrackbar(\"L-S\", \"Trackbars\", 90, 255, nothing)\n",
    "cv2.createTrackbar(\"L-V\", \"Trackbars\", 50, 255, nothing)\n",
    "cv2.createTrackbar(\"U-H\", \"Trackbars\", 255, 255, nothing)\n",
    "cv2.createTrackbar(\"U-S\", \"Trackbars\", 255, 255, nothing)\n",
    "cv2.createTrackbar(\"U-V\", \"Trackbars\", 255, 255, nothing)\n",
    "\n",
    "lower = None\n",
    "upper = None\n",
    "\n",
    "font = cv2.FONT_HERSHEY_SIMPLEX\n",
    "\n",
    "while True:\n",
    "    _, frame = cap.read()\n",
    "    if frame is None:\n",
    "        break\n",
    "\n",
    "    hsv = cv2.cvtColor(frame, cv2.COLOR_BGR2HSV)\n",
    "\n",
    "    l_h = cv2.getTrackbarPos(\"L-H\", \"Trackbars\")\n",
    "    l_s = cv2.getTrackbarPos(\"L-S\", \"Trackbars\")\n",
    "    l_v = cv2.getTrackbarPos(\"L-V\", \"Trackbars\")\n",
    "    u_h = cv2.getTrackbarPos(\"U-H\", \"Trackbars\")\n",
    "    u_s = cv2.getTrackbarPos(\"U-S\", \"Trackbars\")\n",
    "    u_v = cv2.getTrackbarPos(\"U-V\", \"Trackbars\")\n",
    "\n",
    "    lower = np.array([l_h, l_s, l_v])\n",
    "    upper = np.array([u_h, u_s, u_v])\n",
    "\n",
    "    mask = cv2.inRange(hsv, lower, upper)\n",
    "    mask = cv2.erode(mask, kernel=np.ones((5, 5), np.uint8), iterations=2)\n",
    "\n",
    "\n",
    "    thre1 = cv2.getTrackbarPos(\"thre1\", \"Trackbars\")\n",
    "    thre2 = cv2.getTrackbarPos(\"thre2\", \"Trackbars\")\n",
    "\n",
    "    thre3 = cv2.getTrackbarPos(\"thre3\", \"Trackbars\")\n",
    "    thre4 = cv2.getTrackbarPos(\"thre4\", \"Trackbars\")\n",
    "\n",
    "    gray_frame = cv2.cvtColor(frame, cv2.COLOR_BGR2GRAY)\n",
    "    blurred_frame = cv2.GaussianBlur(gray_frame, (9, 9), 0)\n",
    "    canny_frame = cv2.Canny(blurred_frame, thre1, thre2)\n",
    "    canny_frame = cv2.dilate(canny_frame, kernel=np.ones((3, 3), np.uint8), iterations=1)\n",
    "\n",
    "    mask1 = np.ones(frame.shape, dtype=np.uint8)\n",
    "    contours1, _ = cv2.findContours(canny_frame, cv2.RETR_TREE, cv2.CHAIN_APPROX_SIMPLE)\n",
    "    for cnt1 in contours1:\n",
    "        x, y, w, h = cv2.boundingRect(cnt1)\n",
    "        # # Create a mask from a boundingRect in openCV\n",
    "        if w>thre3 and h>thre3 and w<2.1*thre3 and h<2.1*thre3:\n",
    "            cv2.rectangle(mask1, (x, y), (x + w, y + h), (255, 255, 255), -1)\n",
    "            mask1 = cv2.erode(mask1, kernel=np.ones((5, 5), np.uint8), iterations=2)\n",
    "            mask1 = cv2.dilate(mask1, kernel=np.ones((5, 5), np.uint8), iterations=1)\n",
    "\n",
    "\n",
    "    # Contours detection\n",
    "    contours, _ = cv2.findContours(mask, cv2.RETR_TREE, cv2.CHAIN_APPROX_SIMPLE)\n",
    "    for cnt in contours:\n",
    "        area = cv2.contourArea(cnt)\n",
    "        approx = cv2.approxPolyDP(cnt, 0.01*cv2.arcLength(cnt, True), True)\n",
    "        x = approx.ravel()[0]\n",
    "        y = approx.ravel()[1]\n",
    "\n",
    "        if area > thre4:\n",
    "            cv2.drawContours(frame, [approx], 0, (255, 255, 255), 2)\n",
    "            cv2.fillPoly(frame, [approx], (255, 255, 255))\n",
    "\n",
    "            if len(approx) == 4:\n",
    "                cv2.putText(frame, \"Rectangle\", (x, y), font, 0.6, (255, 255, 255), 2)\n",
    "\n",
    "    cv2.imshow(\"Frame\", frame)\n",
    "    cv2.imshow(\"Mask\", mask)\n",
    "    cv2.imshow(\"blurred_frame\", blurred_frame)\n",
    "    cv2.imshow(\"Edge\", canny_frame)\n",
    "    cv2.imshow(\"Mask1\", mask1)\n",
    "    if cv2.waitKey(30) == ord('q'):\n",
    "        break\n",
    "\n",
    "print(lower, upper)\n",
    "cv2.destroyAllWindows()\n",
    "cap.release()"
   ]
  }
 ],
 "metadata": {
  "kernelspec": {
   "display_name": "Python 3",
   "language": "python",
   "name": "python3"
  },
  "language_info": {
   "codemirror_mode": {
    "name": "ipython",
    "version": 3
   },
   "file_extension": ".py",
   "mimetype": "text/x-python",
   "name": "python",
   "nbconvert_exporter": "python",
   "pygments_lexer": "ipython3",
   "version": "3.10.11"
  },
  "orig_nbformat": 4
 },
 "nbformat": 4,
 "nbformat_minor": 2
}
