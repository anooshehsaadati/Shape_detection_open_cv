{
 "cells": [
  {
   "cell_type": "code",
   "execution_count": 4,
   "metadata": {},
   "outputs": [],
   "source": [
    "import cv2\n",
    "import numpy as np "
   ]
  },
  {
   "cell_type": "code",
   "execution_count": 5,
   "metadata": {},
   "outputs": [],
   "source": [
    "def nothing(x):\n",
    "    # any operation\n",
    "    pass"
   ]
  },
  {
   "cell_type": "code",
   "execution_count": 6,
   "metadata": {},
   "outputs": [],
   "source": [
    "def rescale_frame(frame_input, percent=30):\n",
    "    width = int(frame_input.shape[1] * percent / 100)\n",
    "    height = int(frame_input.shape[0] * percent / 100)\n",
    "    dim = (width, height)\n",
    "    return cv2.resize(frame_input, dim, interpolation=cv2.INTER_AREA)"
   ]
  },
  {
   "cell_type": "code",
   "execution_count": 7,
   "metadata": {},
   "outputs": [],
   "source": [
    "cap = cv2.VideoCapture(1)\n",
    "\n",
    "cv2.namedWindow(\"Trackbars\")\n",
    "cv2.createTrackbar(\"thre1\", \"Trackbars\", 120, 255, nothing)\n",
    "cv2.createTrackbar(\"thre2\", \"Trackbars\", 60, 255, nothing)\n",
    "cv2.createTrackbar(\"thre3\", \"Trackbars\", 20, 120, nothing)\n",
    "\n",
    "font = cv2.FONT_HERSHEY_SIMPLEX\n",
    "\n",
    "while True:\n",
    "    _, frame = cap.read()\n",
    "    if frame is None:\n",
    "        break\n",
    "\n",
    "    frame = rescale_frame(frame)\n",
    "\n",
    "    thre1 = cv2.getTrackbarPos(\"thre1\", \"Trackbars\")\n",
    "    thre2 = cv2.getTrackbarPos(\"thre2\", \"Trackbars\")\n",
    "\n",
    "    thre3 = cv2.getTrackbarPos(\"thre3\", \"Trackbars\")\n",
    "\n",
    "    gray_frame = cv2.cvtColor(frame, cv2.COLOR_BGR2GRAY)\n",
    "    blurred_frame = cv2.GaussianBlur(gray_frame, (9, 9), 0)\n",
    "    dilated_img = cv2.dilate(blurred_frame, np.ones((7, 7), np.uint8))\n",
    "    bg_img = cv2.medianBlur(dilated_img, 21)\n",
    "    diff_img = cv2.absdiff(gray_frame, bg_img)\n",
    "    norm_img = cv2.normalize(diff_img, None, alpha=0, beta=255, norm_type=cv2.NORM_MINMAX, dtype=cv2.CV_8UC1)\n",
    "    canny_frame = cv2.Canny(norm_img, thre1, thre2)\n",
    "    canny_frame = cv2.dilate(canny_frame, kernel=np.ones((3, 3), np.uint8), iterations=1)\n",
    "\n",
    "    mask1 = np.ones(frame.shape, dtype=np.uint8)\n",
    "    contours1, _ = cv2.findContours(canny_frame, cv2.RETR_TREE, cv2.CHAIN_APPROX_SIMPLE)\n",
    "    for cnt1 in contours1:\n",
    "        x, y, w, h = cv2.boundingRect(cnt1)\n",
    "        # # Create a mask from a boundingRect in openCV\n",
    "        if w>thre3 and h>thre3 and w<2.1*thre3 and h<2.1*thre3:\n",
    "            cv2.rectangle(mask1, (x, y), (x + w, y + h), (255, 255, 255), -1)\n",
    "            mask1 = cv2.erode(mask1, kernel=np.ones((5, 5), np.uint8), iterations=2)\n",
    "            mask1 = cv2.dilate(mask1, kernel=np.ones((5, 5), np.uint8), iterations=1)\n",
    "\n",
    "    cv2.imshow(\"Frame\", frame)\n",
    "    cv2.imshow(\"Edge\", canny_frame)\n",
    "    cv2.imshow(\"Mask1\", mask1)\n",
    "    if cv2.waitKey(30) == ord('q'):\n",
    "        break\n",
    "\n",
    "cv2.destroyAllWindows()\n",
    "cap.release()"
   ]
  }
 ],
 "metadata": {
  "kernelspec": {
   "display_name": "Python 3",
   "language": "python",
   "name": "python3"
  },
  "language_info": {
   "codemirror_mode": {
    "name": "ipython",
    "version": 3
   },
   "file_extension": ".py",
   "mimetype": "text/x-python",
   "name": "python",
   "nbconvert_exporter": "python",
   "pygments_lexer": "ipython3",
   "version": "3.10.11"
  },
  "orig_nbformat": 4
 },
 "nbformat": 4,
 "nbformat_minor": 2
}
