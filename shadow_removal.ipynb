{
 "cells": [
  {
   "cell_type": "code",
   "execution_count": 1,
   "metadata": {},
   "outputs": [],
   "source": [
    "import cv2\n",
    "import numpy as np"
   ]
  },
  {
   "cell_type": "code",
   "execution_count": 2,
   "metadata": {},
   "outputs": [],
   "source": [
    "def nothing(x):\n",
    "    # any operation\n",
    "    pass"
   ]
  },
  {
   "cell_type": "code",
   "execution_count": 3,
   "metadata": {},
   "outputs": [],
   "source": [
    "def rescale_frame(frame_input, percent=10):\n",
    "    width = int(frame_input.shape[1] * percent / 100)\n",
    "    height = int(frame_input.shape[0] * percent / 100)\n",
    "    dim = (width, height)\n",
    "    return cv2.resize(frame_input, dim, interpolation=cv2.INTER_AREA)"
   ]
  },
  {
   "cell_type": "code",
   "execution_count": 4,
   "metadata": {},
   "outputs": [],
   "source": [
    "cv2.namedWindow(\"Trackbars\")\n",
    "cv2.createTrackbar(\"thre\", \"Trackbars\", 60, 255, nothing)\n",
    "original_img = cv2.imread('IMG_1170.JPG', -1)\n",
    "original_img = rescale_frame(original_img)\n",
    "img = cv2.cvtColor(original_img, cv2.COLOR_BGR2GRAY)\n",
    "\n",
    "while True:\n",
    "    thre = cv2.getTrackbarPos(\"thre\", \"Trackbars\")\n",
    "\n",
    "    dilated_img = cv2.dilate(img, np.ones((5, 5), np.uint8))\n",
    "    bg_img = cv2.medianBlur(dilated_img, 21)\n",
    "    diff_img = cv2.absdiff(img, bg_img)\n",
    "    norm_img = cv2.normalize(diff_img,None, alpha=0, beta=255, norm_type=cv2.NORM_MINMAX, dtype=cv2.CV_8UC1)\n",
    "    norm_img = cv2.dilate(norm_img, np.ones((3, 3), np.uint8))\n",
    "    norm_img = cv2.erode(norm_img, np.ones((3, 3), np.uint8))\n",
    "    thresholded_img = (np.where(norm_img > thre , diff_img, 0)).astype(\"uint8\")\n",
    "    result = diff_img + thresholded_img\n",
    "\n",
    "    cv2.imshow(\"original_img\", original_img)\n",
    "    cv2.imshow(\"img\", img)\n",
    "    cv2.imshow(\"dilated_img\", dilated_img)\n",
    "    cv2.imshow(\"bg_img\", bg_img)\n",
    "    cv2.imshow(\"diff_img\", diff_img)\n",
    "    cv2.imshow(\"norm_img\", norm_img)\n",
    "    cv2.imshow(\"thresholded_img\", thresholded_img)\n",
    "    cv2.imshow(\"result\", result)\n",
    "\n",
    "\n",
    "    cv2.waitKey(30)\n",
    "    if cv2.waitKey(30) == ord('q'):\n",
    "        break\n",
    "\n",
    "cv2.waitKey(0)\n",
    "cv2.destroyAllWindows()"
   ]
  }
 ],
 "metadata": {
  "kernelspec": {
   "display_name": "Python 3",
   "language": "python",
   "name": "python3"
  },
  "language_info": {
   "codemirror_mode": {
    "name": "ipython",
    "version": 3
   },
   "file_extension": ".py",
   "mimetype": "text/x-python",
   "name": "python",
   "nbconvert_exporter": "python",
   "pygments_lexer": "ipython3",
   "version": "3.10.11"
  },
  "orig_nbformat": 4
 },
 "nbformat": 4,
 "nbformat_minor": 2
}
