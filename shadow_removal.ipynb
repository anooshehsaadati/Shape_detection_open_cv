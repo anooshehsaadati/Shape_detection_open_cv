{
 "cells": [
  {
   "cell_type": "code",
   "execution_count": 14,
   "metadata": {},
   "outputs": [],
   "source": [
    "import cv2\n",
    "import numpy as np"
   ]
  },
  {
   "cell_type": "code",
   "execution_count": 24,
   "metadata": {},
   "outputs": [],
   "source": [
    "def rescale_frame(frame_input, percent=20):\n",
    "    width = int(frame_input.shape[1] * percent / 100)\n",
    "    height = int(frame_input.shape[0] * percent / 100)\n",
    "    dim = (width, height)\n",
    "    return cv2.resize(frame_input, dim, interpolation=cv2.INTER_AREA)"
   ]
  },
  {
   "cell_type": "code",
   "execution_count": 35,
   "metadata": {},
   "outputs": [],
   "source": [
    "original_img = cv2.imread('IMG_1170.JPG', -1)\n",
    "original_img = rescale_frame(original_img)\n",
    "img = cv2.cvtColor(original_img, cv2.COLOR_BGR2GRAY)\n",
    "\n",
    "\n",
    "# rgb_planes = cv2.split(img)\n",
    "# plane = cv2.split(img)\n",
    "\n",
    "# result_planes = []\n",
    "# result_norm_planes = []\n",
    "# for plane in rgb_planes:\n",
    "dilated_img = cv2.dilate(img, np.ones((7,7), np.uint8))\n",
    "bg_img = cv2.medianBlur(dilated_img, 21)\n",
    "diff_img = 255 - cv2.absdiff(img, bg_img)\n",
    "norm_img = cv2.normalize(diff_img,None, alpha=0, beta=255, norm_type=cv2.NORM_MINMAX, dtype=cv2.CV_8UC1)\n",
    "# result_planes.append(diff_img)\n",
    "# result_norm_planes.append(norm_img)\n",
    "    \n",
    "# result = cv2.merge(result_planes)\n",
    "# result_norm = cv2.merge(result_norm_planes)\n",
    "\n",
    "# cv2.imwrite('shadows_out.png', result)\n",
    "# cv2.imwrite('shadows_out_norm.png', result_norm)\n",
    "\n",
    "cv2.imshow(\"original_img\", original_img)\n",
    "cv2.imshow(\"img\", img)\n",
    "cv2.imshow(\"dilated_img\", dilated_img)\n",
    "cv2.imshow(\"bg_img\", bg_img)\n",
    "cv2.imshow(\"diff_img\", diff_img)\n",
    "cv2.imshow(\"norm_img\", norm_img)\n",
    "\n",
    "cv2.waitKey(0)\n",
    "\n",
    "cv2.destroyAllWindows()"
   ]
  }
 ],
 "metadata": {
  "kernelspec": {
   "display_name": "Python 3",
   "language": "python",
   "name": "python3"
  },
  "language_info": {
   "codemirror_mode": {
    "name": "ipython",
    "version": 3
   },
   "file_extension": ".py",
   "mimetype": "text/x-python",
   "name": "python",
   "nbconvert_exporter": "python",
   "pygments_lexer": "ipython3",
   "version": "3.10.11"
  },
  "orig_nbformat": 4
 },
 "nbformat": 4,
 "nbformat_minor": 2
}
