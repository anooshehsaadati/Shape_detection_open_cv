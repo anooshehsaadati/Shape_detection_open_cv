{
 "cells": [
  {
   "cell_type": "code",
   "execution_count": 1,
   "metadata": {},
   "outputs": [],
   "source": [
    "import cv2\n",
    "import numpy as np "
   ]
  },
  {
   "cell_type": "code",
   "execution_count": 5,
   "metadata": {},
   "outputs": [],
   "source": [
    "def rescale_frame(frame_input, percent=75):\n",
    "    width = int(frame_input.shape[1] * percent / 100)\n",
    "    height = int(frame_input.shape[0] * percent / 100)\n",
    "    dim = (width, height)\n",
    "    return cv2.resize(frame_input, dim, interpolation=cv2.INTER_AREA)"
   ]
  },
  {
   "cell_type": "code",
   "execution_count": 12,
   "metadata": {},
   "outputs": [],
   "source": [
    "def nothing(x):\n",
    "    # any operation\n",
    "    pass"
   ]
  },
  {
   "cell_type": "code",
   "execution_count": 17,
   "metadata": {},
   "outputs": [],
   "source": [
    "frame = cv2.imread(\"WIN_20231019_13_00_39_Pro.jpg\")\n",
    "\n",
    "frame = rescale_frame(frame)\n",
    "\n",
    "thre1 = 95\n",
    "thre2 = 60\n",
    "\n",
    "gray_frame = cv2.cvtColor(frame, cv2.COLOR_BGR2GRAY)\n",
    "blurred_frame = cv2.GaussianBlur(gray_frame, (9, 9), 0)\n",
    "dilated_img = cv2.dilate(blurred_frame, np.ones((7, 7), np.uint8))\n",
    "bg_img = cv2.medianBlur(dilated_img, 21)\n",
    "diff_img = cv2.absdiff(gray_frame, bg_img)\n",
    "norm_img = cv2.normalize(diff_img, None, alpha=0, beta=255, norm_type=cv2.NORM_MINMAX, dtype=cv2.CV_8UC1)\n",
    "canny_frame = cv2.Canny(norm_img, thre1, thre2)\n",
    "canny_frame = cv2.dilate(canny_frame, kernel=np.ones((3, 3), np.uint8), iterations=1)\n",
    "\n",
    "mask1 = np.ones(frame.shape, dtype=np.uint8)\n",
    "contours1, _ = cv2.findContours(canny_frame, cv2.RETR_TREE, cv2.CHAIN_APPROX_SIMPLE)\n",
    "for cnt1 in contours1:\n",
    "    mask1 = cv2.drawContours(mask1, [cnt1], 0, (255, 255, 255), -1)\n",
    "    cv2.fillPoly(mask1, pts =[cnt1], color=(255,255,255))\n",
    "\n",
    "mask1[mask1 <= 1] = 0\n",
    "\n",
    "cv2.imshow(\"Frame\", frame)\n",
    "cv2.imshow(\"Edge\", canny_frame)\n",
    "cv2.imshow(\"Mask1\", mask1)\n",
    "\n",
    "cv2.imwrite(\"Scale_WIN_20231019_13_00_39_Pro.jpg\", frame)\n",
    "cv2.imwrite(\"Mask_WIN_20231019_13_00_39_Pro.jpg\", mask1)\n",
    "\n",
    "cv2.waitKey(0)\n",
    "\n",
    "cv2.destroyAllWindows()"
   ]
  }
 ],
 "metadata": {
  "kernelspec": {
   "display_name": "Python 3",
   "language": "python",
   "name": "python3"
  },
  "language_info": {
   "codemirror_mode": {
    "name": "ipython",
    "version": 3
   },
   "file_extension": ".py",
   "mimetype": "text/x-python",
   "name": "python",
   "nbconvert_exporter": "python",
   "pygments_lexer": "ipython3",
   "version": "3.10.11"
  },
  "orig_nbformat": 4
 },
 "nbformat": 4,
 "nbformat_minor": 2
}
