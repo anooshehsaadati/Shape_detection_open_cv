{
 "cells": [
  {
   "cell_type": "code",
   "execution_count": 1,
   "metadata": {},
   "outputs": [],
   "source": [
    "import cv2\n",
    "import numpy as np"
   ]
  },
  {
   "cell_type": "code",
   "execution_count": 2,
   "metadata": {},
   "outputs": [],
   "source": [
    "def nothing(x):\n",
    "    # any operation\n",
    "    pass"
   ]
  },
  {
   "cell_type": "code",
   "execution_count": 3,
   "metadata": {},
   "outputs": [],
   "source": [
    "def get_limits(color, l_limit, u_limit):\n",
    "    c = np.uint8([[color]]) # here insert the bgr values which you want to convert to hsv\n",
    "    hsvC = cv2.cvtColor(c, cv2.COLOR_BGR2HSV)\n",
    "\n",
    "    lowerLimit = hsvC[0][0][0] - l_limit, 40, 0\n",
    "    upperLimit = hsvC[0][0][0] + u_limit, 255, 255\n",
    "\n",
    "    lowerLimit = np.array(lowerLimit, dtype=np.uint8)\n",
    "    upperLimit = np.array(upperLimit, dtype=np.uint8)\n",
    "\n",
    "    return lowerLimit, upperLimit"
   ]
  },
  {
   "cell_type": "code",
   "execution_count": 25,
   "metadata": {},
   "outputs": [],
   "source": [
    "def rescale_frame(frame_input, percent=100):\n",
    "    width = int(frame_input.shape[1] * percent / 100)\n",
    "    height = int(frame_input.shape[0] * percent / 100)\n",
    "    dim = (width, height)\n",
    "    return cv2.resize(frame_input, dim, interpolation=cv2.INTER_AREA)"
   ]
  },
  {
   "cell_type": "code",
   "execution_count": 26,
   "metadata": {},
   "outputs": [],
   "source": [
    "cap = cv2.VideoCapture(1)\n",
    "\n",
    "\n",
    "cv2.namedWindow(\"Trackbars\")\n",
    "cv2.createTrackbar(\"L-L-yellow\", \"Trackbars\", 10, 255, nothing)\n",
    "cv2.createTrackbar(\"U-L-yellow\", \"Trackbars\", 10, 255, nothing)\n",
    "cv2.createTrackbar(\"L-L-red\", \"Trackbars\", 0, 255, nothing)\n",
    "cv2.createTrackbar(\"U-L-red\", \"Trackbars\", 5, 255, nothing)\n",
    "cv2.createTrackbar(\"L-L-green\", \"Trackbars\", 20, 255, nothing)\n",
    "cv2.createTrackbar(\"U-L-green\", \"Trackbars\", 20, 255, nothing)\n",
    "cv2.createTrackbar(\"L-L-blue\", \"Trackbars\", 25, 255, nothing)\n",
    "cv2.createTrackbar(\"U-L-blue\", \"Trackbars\", 25, 255, nothing)\n",
    "\n",
    "# cap = cv2.VideoCapture(\"IMG_1178.MOV\")\n",
    "# cv2.createTrackbar(\"L-L-yellow\", \"Trackbars\", 10, 255, nothing)\n",
    "# cv2.createTrackbar(\"U-L-yellow\", \"Trackbars\", 10, 255, nothing)\n",
    "# cv2.createTrackbar(\"L-L-red\", \"Trackbars\", 0, 255, nothing)\n",
    "# cv2.createTrackbar(\"U-L-red\", \"Trackbars\", 0, 255, nothing)\n",
    "# cv2.createTrackbar(\"L-L-green\", \"Trackbars\", 0, 255, nothing)\n",
    "# cv2.createTrackbar(\"U-L-green\", \"Trackbars\", 0, 255, nothing)\n",
    "# cv2.createTrackbar(\"L-L-blue\", \"Trackbars\", 25, 255, nothing)\n",
    "# cv2.createTrackbar(\"U-L-blue\", \"Trackbars\", 25, 255, nothing)\n",
    "\n",
    "# in BGR colorspace\n",
    "yellow = [0, 255, 255]\n",
    "red = [0, 0, 255]\n",
    "green = [0, 255, 0]\n",
    "blue = [255, 0, 0]\n",
    "\n",
    "while True:\n",
    "    ret, frame = cap.read()\n",
    "    if frame is None:\n",
    "        break\n",
    "\n",
    "    frame = rescale_frame(frame)\n",
    "\n",
    "    hsvImage = cv2.cvtColor(frame, cv2.COLOR_BGR2HSV)\n",
    "\n",
    "    l_limit_yellow = cv2.getTrackbarPos(\"L-L-yellow\", \"Trackbars\")\n",
    "    u_limit_yellow = cv2.getTrackbarPos(\"U-L-yellow\", \"Trackbars\")\n",
    "    l_limit_red = cv2.getTrackbarPos(\"L-L-red\", \"Trackbars\")\n",
    "    u_limit_red = cv2.getTrackbarPos(\"U-L-red\", \"Trackbars\")\n",
    "    l_limit_green = cv2.getTrackbarPos(\"L-L-green\", \"Trackbars\")\n",
    "    u_limit_green = cv2.getTrackbarPos(\"U-L-green\", \"Trackbars\")\n",
    "    l_limit_blue = cv2.getTrackbarPos(\"L-L-blue\", \"Trackbars\")\n",
    "    u_limit_blue = cv2.getTrackbarPos(\"U-L-blue\", \"Trackbars\")\n",
    "\n",
    "    lowerLimit_yellow, upperLimit_yellow = get_limits(yellow, l_limit_yellow, u_limit_yellow)\n",
    "    lowerLimit_red, upperLimit_red = get_limits(red, l_limit_red, u_limit_red)\n",
    "    lowerLimit_green, upperLimit_green = get_limits(green, u_limit_green, u_limit_green)\n",
    "    lowerLimit_blue, upperLimit_blue = get_limits(blue, l_limit_blue, u_limit_blue)\n",
    "\n",
    "    mask_yellow = cv2.inRange(hsvImage, lowerLimit_yellow, upperLimit_yellow)\n",
    "    mask_red = cv2.inRange(hsvImage, lowerLimit_red, upperLimit_red)\n",
    "    mask_green = cv2.inRange(hsvImage, lowerLimit_green, upperLimit_green)\n",
    "    mask_blue = cv2.inRange(hsvImage, lowerLimit_blue, upperLimit_blue)\n",
    "\n",
    "    # add masks\n",
    "    # result = mask_yellow + mask_red + mask_green + mask_blue\n",
    "    result = cv2.bitwise_or(mask_yellow,mask_red)\n",
    "    result = cv2.bitwise_or(result,mask_green)\n",
    "    result = cv2.bitwise_or(result,mask_blue)\n",
    "\n",
    "    cv2.imshow(\"Frame\", frame)\n",
    "    # cv2.imshow(\"mask_yellow\", mask_yellow)\n",
    "    # cv2.imshow(\"mask_red\", mask_red)\n",
    "    # cv2.imshow(\"mask_green\", mask_green)\n",
    "    # cv2.imshow(\"mask_blue\", mask_blue)\n",
    "    cv2.imshow(\"result\", result)\n",
    "    if cv2.waitKey(30) == ord('q'):\n",
    "        break\n",
    "\n",
    "cv2.destroyAllWindows()\n",
    "cap.release()"
   ]
  }
 ],
 "metadata": {
  "kernelspec": {
   "display_name": "Python 3",
   "language": "python",
   "name": "python3"
  },
  "language_info": {
   "codemirror_mode": {
    "name": "ipython",
    "version": 3
   },
   "file_extension": ".py",
   "mimetype": "text/x-python",
   "name": "python",
   "nbconvert_exporter": "python",
   "pygments_lexer": "ipython3",
   "version": "3.10.11"
  },
  "orig_nbformat": 4
 },
 "nbformat": 4,
 "nbformat_minor": 2
}
