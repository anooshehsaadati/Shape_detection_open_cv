{
 "cells": [
  {
   "cell_type": "code",
   "execution_count": 1,
   "metadata": {},
   "outputs": [],
   "source": [
    "import cv2\n",
    "import numpy as np"
   ]
  },
  {
   "cell_type": "code",
   "execution_count": 2,
   "metadata": {},
   "outputs": [],
   "source": [
    "def nothing(x):\n",
    "    # any operation\n",
    "    pass"
   ]
  },
  {
   "cell_type": "code",
   "execution_count": 4,
   "metadata": {},
   "outputs": [
    {
     "name": "stdout",
     "output_type": "stream",
     "text": [
      "[0 0 5] [  0   0 255]\n"
     ]
    }
   ],
   "source": [
    "cv2.namedWindow(\"Trackbars\")\n",
    "cv2.createTrackbar(\"L-H\", \"Trackbars\", 0, 255, nothing)\n",
    "cv2.createTrackbar(\"L-S\", \"Trackbars\", 40, 255, nothing)\n",
    "cv2.createTrackbar(\"L-V\", \"Trackbars\", 0, 255, nothing)\n",
    "cv2.createTrackbar(\"U-H\", \"Trackbars\", 5, 255, nothing)\n",
    "cv2.createTrackbar(\"U-S\", \"Trackbars\", 255, 255, nothing)\n",
    "cv2.createTrackbar(\"U-V\", \"Trackbars\", 255, 255, nothing)\n",
    "\n",
    "lower_gray = None\n",
    "upper_gray = None\n",
    "\n",
    "font = cv2.FONT_HERSHEY_SIMPLEX\n",
    "while True:\n",
    "    image = cv2.imread('frame_multiple_rgby_01_25.png')\n",
    "    hsv = cv2.cvtColor(image, cv2.COLOR_BGR2HSV)\n",
    "\n",
    "    l_h = cv2.getTrackbarPos(\"L-H\", \"Trackbars\")\n",
    "    l_s = cv2.getTrackbarPos(\"L-S\", \"Trackbars\")\n",
    "    l_v = cv2.getTrackbarPos(\"L-V\", \"Trackbars\")\n",
    "    u_h = cv2.getTrackbarPos(\"U-H\", \"Trackbars\")\n",
    "    u_s = cv2.getTrackbarPos(\"U-S\", \"Trackbars\")\n",
    "    u_v = cv2.getTrackbarPos(\"U-V\", \"Trackbars\")\n",
    "\n",
    "    lower_gray = np.array([l_h, l_s, l_v])\n",
    "    upper_gray = np.array([u_h, u_s, u_v])\n",
    "\n",
    "    mask = cv2.inRange(hsv, lower_gray, upper_gray)\n",
    "    mask = cv2.erode(mask, kernel=np.ones((5, 5), np.uint8), iterations=2)\n",
    "\n",
    "    cv2.imshow(\"Frame\", image)\n",
    "    cv2.imshow(\"Mask\", mask)\n",
    "    if cv2.waitKey(30) == ord('q'):\n",
    "        break\n",
    "\n",
    "print(lower_gray, upper_gray)\n",
    "cv2.destroyAllWindows()"
   ]
  }
 ],
 "metadata": {
  "kernelspec": {
   "display_name": "Python 3",
   "language": "python",
   "name": "python3"
  },
  "language_info": {
   "codemirror_mode": {
    "name": "ipython",
    "version": 3
   },
   "file_extension": ".py",
   "mimetype": "text/x-python",
   "name": "python",
   "nbconvert_exporter": "python",
   "pygments_lexer": "ipython3",
   "version": "3.10.11"
  },
  "orig_nbformat": 4
 },
 "nbformat": 4,
 "nbformat_minor": 2
}
