{
 "cells": [
  {
   "cell_type": "code",
   "execution_count": 41,
   "metadata": {},
   "outputs": [],
   "source": [
    "import cv2\n",
    "import numpy as np"
   ]
  },
  {
   "cell_type": "code",
   "execution_count": 42,
   "metadata": {},
   "outputs": [],
   "source": [
    "def nothing(x):\n",
    "    # any operation\n",
    "    pass"
   ]
  },
  {
   "cell_type": "code",
   "execution_count": 47,
   "metadata": {},
   "outputs": [],
   "source": [
    "def get_limits(color, l_limit, u_limit):\n",
    "    c = np.uint8([[color]]) # here insert the bgr values which you want to convert to hsv\n",
    "    hsvC = cv2.cvtColor(c, cv2.COLOR_BGR2HSV)\n",
    "\n",
    "    lowerLimit = hsvC[0][0][0] - l_limit, 40, 0\n",
    "    upperLimit = hsvC[0][0][0] + u_limit, 255, 255\n",
    "\n",
    "    lowerLimit = np.array(lowerLimit, dtype=np.uint8)\n",
    "    upperLimit = np.array(upperLimit, dtype=np.uint8)\n",
    "\n",
    "    return lowerLimit, upperLimit"
   ]
  },
  {
   "cell_type": "code",
   "execution_count": 51,
   "metadata": {},
   "outputs": [
    {
     "name": "stdout",
     "output_type": "stream",
     "text": [
      "60\n"
     ]
    }
   ],
   "source": [
    "cap = cv2.VideoCapture(0)\n",
    "\n",
    "cv2.namedWindow(\"Trackbars\")\n",
    "cv2.createTrackbar(\"L-L-yellow\", \"Trackbars\", 13, 255, nothing)\n",
    "cv2.createTrackbar(\"U-L-yellow\", \"Trackbars\", 13, 255, nothing)\n",
    "cv2.createTrackbar(\"L-L-red\", \"Trackbars\", 0, 255, nothing)\n",
    "cv2.createTrackbar(\"U-L-red\", \"Trackbars\", 10, 255, nothing)\n",
    "cv2.createTrackbar(\"L-L-green\", \"Trackbars\", 35, 255, nothing)\n",
    "cv2.createTrackbar(\"U-L-green\", \"Trackbars\", 40, 255, nothing)\n",
    "cv2.createTrackbar(\"L-L-blue\", \"Trackbars\", 25, 255, nothing)\n",
    "cv2.createTrackbar(\"U-L-blue\", \"Trackbars\", 25, 255, nothing)\n",
    "\n",
    "# in BGR colorspace\n",
    "yellow = [0, 255, 255]\n",
    "red = [0, 0, 255]\n",
    "green = [0, 255, 0]\n",
    "blue = [255, 0, 0]\n",
    "\n",
    "c = np.uint8([[green]]) # here insert the bgr values which you want to convert to hsv\n",
    "hsvC = cv2.cvtColor(c, cv2.COLOR_BGR2HSV)\n",
    "print(hsvC[0][0][0])\n",
    "\n",
    "while True:\n",
    "    ret, frame = cap.read()\n",
    "    if frame is None:\n",
    "        break\n",
    "\n",
    "    hsvImage = cv2.cvtColor(frame, cv2.COLOR_BGR2HSV)\n",
    "\n",
    "    l_limit_yellow = cv2.getTrackbarPos(\"L-L-yellow\", \"Trackbars\")\n",
    "    u_limit_yellow = cv2.getTrackbarPos(\"U-L-yellow\", \"Trackbars\")\n",
    "    l_limit_red = cv2.getTrackbarPos(\"L-L-red\", \"Trackbars\")\n",
    "    u_limit_red = cv2.getTrackbarPos(\"U-L-red\", \"Trackbars\")\n",
    "    l_limit_green = cv2.getTrackbarPos(\"L-L-green\", \"Trackbars\")\n",
    "    u_limit_green = cv2.getTrackbarPos(\"U-L-green\", \"Trackbars\")\n",
    "    l_limit_blue = cv2.getTrackbarPos(\"L-L-blue\", \"Trackbars\")\n",
    "    u_limit_blue = cv2.getTrackbarPos(\"U-L-blue\", \"Trackbars\")\n",
    "\n",
    "    l_limit = l_limit_blue\n",
    "    u_limit = u_limit_blue\n",
    "\n",
    "    lowerLimit, upperLimit = get_limits(blue, l_limit, u_limit)\n",
    "    mask = cv2.inRange(hsvImage, lowerLimit, upperLimit)\n",
    "\n",
    "    cv2.imshow(\"Frame\", frame)\n",
    "    cv2.imshow(\"Mask\", mask)\n",
    "    if cv2.waitKey(30) == ord('q'):\n",
    "        break\n",
    "\n",
    "cv2.destroyAllWindows()\n",
    "cap.release()"
   ]
  }
 ],
 "metadata": {
  "kernelspec": {
   "display_name": "Python 3",
   "language": "python",
   "name": "python3"
  },
  "language_info": {
   "codemirror_mode": {
    "name": "ipython",
    "version": 3
   },
   "file_extension": ".py",
   "mimetype": "text/x-python",
   "name": "python",
   "nbconvert_exporter": "python",
   "pygments_lexer": "ipython3",
   "version": "3.10.11"
  },
  "orig_nbformat": 4
 },
 "nbformat": 4,
 "nbformat_minor": 2
}
